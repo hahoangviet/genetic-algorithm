{
 "cells": [
  {
   "cell_type": "code",
   "execution_count": 109,
   "id": "15b8f43f",
   "metadata": {},
   "outputs": [],
   "source": [
    "import numpy as np\n",
    "import sys, operator"
   ]
  },
  {
   "cell_type": "code",
   "execution_count": 130,
   "id": "6e9dd4d6",
   "metadata": {},
   "outputs": [],
   "source": [
    "class Fitness:\n",
    "    def __init__(self, path, dist_mtx):\n",
    "        self.chromosome = path\n",
    "        self.dist_mtx = dist_mtx\n",
    "        self.distance = 0\n",
    "        self.fitness = 0.0\n",
    "        \n",
    "    def path_distance(self):\n",
    "        if self.distance == 0:\n",
    "            self.distance = sum([self.dist_mtx[self.chromosome[i]][self.chromosome[i+1]] \n",
    "                                 for i in range(len(self.chromosome)-1)])\n",
    "        return self.distance\n",
    "    \n",
    "    def rank_path(self, population):\n",
    "        rank = {}\n",
    "        for chromosome in population:\n",
    "            path = \"\".join(str(elem)+\"-\" for elem in chromosome)\n",
    "            rank[path] = sum([self.dist_mtx[chromosome[i]][chromosome[i+1]] \n",
    "                                 for i in range(len(chromosome)-1)])\n",
    "        return dict(sorted(rank.items(), key = operator.itemgetter(1)))"
   ]
  },
  {
   "cell_type": "code",
   "execution_count": 149,
   "id": "e448bd21",
   "metadata": {},
   "outputs": [],
   "source": [
    "def init_population(n_population, dist_mtx):\n",
    "    path = np.arange(len(dist_mtx[0]))\n",
    "    pop = np.array([np.random.permutation(path) for _ in range(n_population)])\n",
    "    return np.array([np.append(p, p[0]) for p in pop])\n",
    "\n",
    "def select(rank, elite_size):\n",
    "    keys = list(rank.keys())\n",
    "    selections = []\n",
    "    for i in range(elite_size):\n",
    "        selections.append(keys[i])\n",
    "    return selections\n",
    "\n",
    "def order_crossover(p1, p2):\n",
    "    n = len(p1)\n",
    "    cut_1 = round(n/3)\n",
    "    cut_2 = round(2*n/3) + 1\n",
    "    o1_mid = p1[cut_1: cut_2]\n",
    "    o2_mid = p2[cut_1: cut_2]\n",
    "    seq_1 = p1[cut_2:] + p1[:cut_2]\n",
    "    seq_2 = p2[cut_2:] + p2[:cut_2]\n",
    "    for i in o1_mid:\n",
    "        seq_2 = seq_2.replace(i, '')\n",
    "    for i in o2_mid:\n",
    "        seq_1 = seq_1.replace(i, '')\n",
    "    o1 = seq_2[-cut_1:] + o1_mid + seq_2[:n-cut_2]\n",
    "    o2 = seq_1[-cut_1:] + o2_mid + seq_1[:n-cut_2]\n",
    "    return o1, o2\n",
    "\n",
    "def swap(chromosome):\n",
    "    a, b = np.random.choice(len(chromosome), 2)\n",
    "    x = chromosome[a]\n",
    "    y = chromosome[b] \n",
    "    chromosome = chromosome.replace(x, '$x') \n",
    "    chromosome = chromosome.replace(y, '$y')\n",
    "    chromosome = chromosome.replace('$x', y)\n",
    "    chromosome = chromosome.replace('$y', x)\n",
    "    return chromosome\n",
    "\n",
    "def mutation(chromosome, p_mutation):\n",
    "    if np.random.rand() < p_mutation:\n",
    "        return swap(chromosome)\n",
    "    return chromosome\n",
    "\n",
    "def create_new_population(rank, p_crossover, p_mutation):\n",
    "    new_pop = []\n",
    "    n_population = len(rank)\n",
    "    elite_size = round(n_population*p_crossover)\n",
    "    parents = select(rank, elite_size)\n",
    "    new_pop.extend(parents)\n",
    "    m = n_population - elite_size \n",
    "    for i in range(elite_size-1):\n",
    "        o1, o2 = order_crossover(parents[i], parents[i+1])\n",
    "        o1 = mutation(o1, p_mutation)\n",
    "        o2 = mutation(o2, p_mutation)\n",
    "        new_pop.extend([o1, o2])\n",
    "    new_pop = new_pop[:n_population]\n",
    "    pop = []\n",
    "    for chromosome in new_pop:\n",
    "        chromosome = chromosome.replace(\"-\", \"\")\n",
    "        pop.append([int(i) for i in chromosome])\n",
    "    return pop\n",
    "\n",
    "def genetic_tsp(n_population, dist_mtx, p_crossover, p_mutation, generation):\n",
    "    shortest = sys.maxsize\n",
    "    bestpath = ''\n",
    "    i = 0\n",
    "    gen = 0\n",
    "    while (i < 100) and (gen < generation):\n",
    "        pop = init_population(n_population, dist_mtx)\n",
    "        fitness = Fitness(pop[0], dist_mtx)\n",
    "        rank = fitness.rank_path(pop)\n",
    "        if list(rank.values())[0] < shortest:\n",
    "            shortest = list(rank.values())[0]\n",
    "            bestpath = list(rank.keys())[0]\n",
    "        else:\n",
    "            i += 1\n",
    "        pop = create_new_population(rank, p_crossover, p_mutation)\n",
    "        gen += 1\n",
    "    return shortest, bestpath"
   ]
  },
  {
   "cell_type": "code",
   "execution_count": 150,
   "id": "1a5f3000",
   "metadata": {},
   "outputs": [
    {
     "data": {
      "text/plain": [
       "(21, '0-4-2-3-1-0-')"
      ]
     },
     "execution_count": 150,
     "metadata": {},
     "output_type": "execute_result"
    }
   ],
   "source": [
    "dm = np.array([\n",
    "        [0, 2, 9999, 12, 5],\n",
    "        [2, 0, 4, 8, 9999],\n",
    "        [9999, 4, 0, 3, 3],\n",
    "        [12, 8, 3, 0, 10],\n",
    "        [5, 9999, 3, 10, 0]\n",
    "    ])\n",
    "genetic_tsp(10, dm, 0.2, 0.2, 200)"
   ]
  },
  {
   "cell_type": "code",
   "execution_count": 151,
   "id": "b8be1bde",
   "metadata": {},
   "outputs": [
    {
     "data": {
      "text/plain": [
       "(8031, '5-4-11-12-1-8-6-3-2-0-7-9-10-5-')"
      ]
     },
     "execution_count": 151,
     "metadata": {},
     "output_type": "execute_result"
    }
   ],
   "source": [
    "locations = {0:'New York', 1:'Los Angeles', 2:'Chicago', 3:'Minneapolis', 4:'Denver', 5:'Dallas', 6:'Seattle',\n",
    "             7:'Boston', 8:'San Francisco', 9:'St. Louis', 10:'Houston', 11:'Phoenix', 12:'Salt Lake City'}\n",
    "distance_matrix = np.array( [\n",
    "    [0, 2451, 713, 1018, 1631, 1374, 2408, 213, 2571, 875, 1420, 2145, 1972],\n",
    "    [2451, 0, 1745, 1524, 831, 1240, 959, 2596, 403, 1589, 1374, 357, 579],\n",
    "    [713, 1745, 0, 355, 920, 803, 1737, 851, 1858, 262, 940, 1453, 1260],\n",
    "    [1018, 1524, 355, 0, 700, 862, 1395, 1123, 1584, 466, 1056, 1280, 987],\n",
    "    [1631, 831, 920, 700, 0, 663, 1021, 1769, 949, 796, 879, 586, 371],\n",
    "    [1374, 1240, 803, 862, 663, 0, 1681, 1551, 1765, 547, 225, 887, 999],\n",
    "    [2408, 959, 1737, 1395, 1021, 1681, 0, 2493, 678, 1724, 1891, 1114, 701],\n",
    "    [213, 2596, 851, 1123, 1769, 1551, 2493, 0, 2699, 1038, 1605, 2300, 2099],\n",
    "    [2571, 403, 1858, 1584, 949, 1765, 678, 2699, 0, 1744, 1645, 653, 600],\n",
    "    [875, 1589, 262, 466, 796, 547, 1724, 1038, 1744, 0, 679, 1272, 1162],\n",
    "    [1420, 1374, 940, 1056, 879, 225, 1891, 1605, 1645, 679, 0, 1017, 1200],\n",
    "    [2145, 357, 1453, 1280, 586, 887, 1114, 2300, 653, 1272, 1017, 0, 504],\n",
    "    [1972, 579, 1260, 987, 371, 999, 701, 2099, 600, 1162, 1200, 504, 0],\n",
    "] )\n",
    "    \n",
    "genetic_tsp(500, distance_matrix, 0.2, 0.2, 2000)"
   ]
  },
  {
   "cell_type": "code",
   "execution_count": 152,
   "id": "645a7fee",
   "metadata": {},
   "outputs": [
    {
     "data": {
      "text/plain": [
       "(132.32, '4-1-3-2-0-4-')"
      ]
     },
     "execution_count": 152,
     "metadata": {},
     "output_type": "execute_result"
    }
   ],
   "source": [
    "distance_matrix = np.array([\n",
    "        [0.00, 28.02, 17.12, 27.46, 46.07],\n",
    "        [28.02, 0.00, 34.00, 25.55, 25.55],\n",
    "        [17.12, 34.00, 0.00, 18.03, 57.38],\n",
    "        [27.46, 25.55, 18.03, 0.00, 51.11],\n",
    "        [46.07, 25.55, 57.38, 51.11, 0.00],\n",
    "    ])\n",
    "\n",
    "genetic_tsp(50, distance_matrix, 0.3, 0.6, 2000)"
   ]
  }
 ],
 "metadata": {
  "kernelspec": {
   "display_name": "Python 3 (ipykernel)",
   "language": "python",
   "name": "python3"
  },
  "language_info": {
   "codemirror_mode": {
    "name": "ipython",
    "version": 3
   },
   "file_extension": ".py",
   "mimetype": "text/x-python",
   "name": "python",
   "nbconvert_exporter": "python",
   "pygments_lexer": "ipython3",
   "version": "3.9.7"
  }
 },
 "nbformat": 4,
 "nbformat_minor": 5
}
